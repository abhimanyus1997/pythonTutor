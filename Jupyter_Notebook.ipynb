{
 "cells": [
  {
   "cell_type": "markdown",
   "metadata": {},
   "source": [
    "<center>\n",
    "    <img src=\"https://s3-api.us-geo.objectstorage.softlayer.net/cf-courses-data/CognitiveClass/Logos/organization_logo/organization_logo.png\" width=\"300\" alt=\"cognitiveclass.ai logo\"  />\n",
    "</center>\n"
   ]
  },
  {
   "cell_type": "markdown",
   "metadata": {},
   "source": [
    "#### Add your code below following the instructions given in the course\n"
   ]
  },
  {
   "cell_type": "markdown",
   "metadata": {},
   "source": [
    "# <center>My Jupyter Notebook on IBM Watson Studio</center></h1>"
   ]
  },
  {
   "cell_type": "markdown",
   "metadata": {},
   "source": [
    "<center> <b>Abhimanyu Singh</b>  </center>\n",
    "<center> Postgraduate Student, Automation & Robotics Engineering</center>"
   ]
  },
  {
   "cell_type": "markdown",
   "metadata": {},
   "source": [
    "*I am interested in data science because of two reason.Firstly it is interdisciplinary in nature and secondly it is a combination of emerging future technologies like Machine learning, Artificial Intelligence, Big Data, AI & Computer Vision alaong with a lot of visualization tools that helps to make the huge chunk of data user friendly*"
   ]
  },
  {
   "cell_type": "markdown",
   "metadata": {},
   "source": [
    "### Sample code for Playing Stone-Paper-Scissor"
   ]
  },
  {
   "cell_type": "code",
   "execution_count": 7,
   "metadata": {},
   "outputs": [
    {
     "name": "stdout",
     "output_type": "stream",
     "text": [
      "CPU chose: STONE🪨\n"
     ]
    }
   ],
   "source": [
    "import random\n",
    "sample_space = ['STONE🪨', 'PAPER📜', 'SCISSOR✂️']\n",
    "\n",
    "print(\"CPU chose:\",random.choice(sample_space))"
   ]
  },
  {
   "attachments": {},
   "cell_type": "markdown",
   "metadata": {},
   "source": [
    "<hr>\n",
    "<img src=\"https://upload.wikimedia.org/wikipedia/commons/thumb/6/67/Rock-paper-scissors.svg/690px-Rock-paper-scissors.svg.png\">\n",
    "<b> About the game:</b>\n",
    "    <a link=\"https://en.wikipedia.org/wiki/File:Rock-paper-scissors.svg\" title=\"Wikipedia on Stone paper scissor\"> Stone paper scissor\n",
    "    </a>\n",
    "<br>\n",
    "<br>\n",
    "<blockquote><b>Rules of the game:</b>\n",
    "    <ul>\n",
    "        <li>Rock smashes scissors.</li>\n",
    "        <li>Paper covers rock.</li>\n",
    "        <li>Scissors cut paper</li>\n",
    "    </ul>\n",
    "</blockquote>"
   ]
  },
  {
   "cell_type": "code",
   "execution_count": null,
   "metadata": {},
   "outputs": [],
   "source": []
  }
 ],
 "metadata": {
  "kernelspec": {
   "display_name": "Python 3 (ipykernel)",
   "language": "python",
   "name": "python3"
  },
  "language_info": {
   "codemirror_mode": {
    "name": "ipython",
    "version": 3
   },
   "file_extension": ".py",
   "mimetype": "text/x-python",
   "name": "python",
   "nbconvert_exporter": "python",
   "pygments_lexer": "ipython3",
   "version": "3.10.5"
  }
 },
 "nbformat": 4,
 "nbformat_minor": 4
}
